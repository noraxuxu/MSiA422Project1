{
 "cells": [
  {
   "cell_type": "markdown",
   "metadata": {},
   "source": [
    "# Exercise 1\n",
    "### 1. Download and compile baby names by state dataset.\n",
    "The step of compiling datasets will be done in the class defined below."
   ]
  },
  {
   "cell_type": "code",
   "execution_count": 1,
   "metadata": {},
   "outputs": [],
   "source": [
    "import numpy as np\n",
    "import pandas as pd\n",
    "import os\n",
    "import matplotlib.pyplot as plt "
   ]
  },
  {
   "cell_type": "markdown",
   "metadata": {},
   "source": [
    "### 2. Create a library class called BabyNames: "
   ]
  },
  {
   "cell_type": "code",
   "execution_count": 125,
   "metadata": {},
   "outputs": [],
   "source": [
    "class BabyNames(object):\n",
    "    \n",
    "    # a. Class Constructor where you pass the file location to create Pandas DataFrame\n",
    "    def __init__(self, location):\n",
    "        names = []\n",
    "        os.chdir(location)\n",
    "        for i in os.listdir(os.getcwd()):\n",
    "            if i.endswith('.TXT'):\n",
    "                with open(i, 'r') as myfile:\n",
    "                    names.extend(myfile.read().splitlines())\n",
    "        # list names is a list with each item being a string of a line from the .txt files\n",
    "        names2 = []\n",
    "        for i in range(len(names)):\n",
    "            names2.append(names[i].split(','))\n",
    "        # names2 is a list now where each item is a list of string: ['state', 'sex', 'year', 'name', 'births']\n",
    "        names_final = pd.DataFrame(names2, columns=['State', 'Sex', 'Year', 'Name', 'Births'])\n",
    "        names_final.Births = pd.to_numeric(names_final.Births)\n",
    "\n",
    "        self.data = names_final\n",
    "        # now if you call a BabyNamesObject.data it will return you a pd.DataFrame object where births is \n",
    "        # numeric and others are strings\n",
    "    \n",
    "    # b. Function Count (state=’’, year=’’): returns the total number of births for a given state & year combination\n",
    "    def Count(self, state=None, year=None):\n",
    "        if year:\n",
    "            year = str(year)\n",
    "        else:\n",
    "            pass\n",
    "        \n",
    "        if not state and not year:\n",
    "            num_births = sum(self.data.Births)\n",
    "        elif not state and not not year:\n",
    "            num_births = sum(self.data.Births[self.data.Year == year])\n",
    "        elif not not state and not year:\n",
    "            num_births = sum(self.data.Births[self.data.State == state])\n",
    "        else:\n",
    "            num_births = sum(self.data.Births[(self.data.State == state) & (self.data.Year == year)])\n",
    "        return num_births\n",
    "    \n",
    "    # c. Top10BabyNames(state=’IL’, year=2015)\n",
    "    def Top10BabyNames(self, state=None, year=None):\n",
    "        if year:\n",
    "            year = str(year)\n",
    "        else:\n",
    "            pass\n",
    "        \n",
    "        male = self.data[self.data.Sex == 'M']\n",
    "        female = self.data[self.data.Sex == 'F']\n",
    "\n",
    "        if not state and not year:\n",
    "            topmale = list(male.groupby(by='Name').sum().nlargest(10, 'Births').index)\n",
    "            topfemale = list(female.groupby(by='Name').sum().nlargest(10, 'Births').index)\n",
    "        elif not state and not not year:\n",
    "            topmale = list(male[male.Year == year].groupby(by='Name').sum().nlargest(10, 'Births').index)\n",
    "            topfemale = list(female[female.Year == year].groupby(by='Name').sum().nlargest(10, 'Births').index)\n",
    "        elif not not state and not year:\n",
    "            topmale = list(male[male.State == state].groupby(by='Name').sum().nlargest(10, 'Births').index)\n",
    "            topfemale = list(female[female.State == state].groupby(by='Name').sum().nlargest(10, 'Births').index)\n",
    "        else:\n",
    "            topmale = list(male[(male.State == state) & (male.Year == year)].groupby(by='Name').sum().nlargest(10, 'Births').index)\n",
    "            topfemale = list(female[(female.State == state) & (female.Year == year)].groupby(by='Name').sum().nlargest(10, 'Births').index)\n",
    "\n",
    "        topbaby = pd.DataFrame({'Rank':list(range(1,11)), 'Male': topmale, 'Female':topfemale})\n",
    "        topbaby = topbaby[['Rank', 'Male','Female']]\n",
    "\n",
    "        return topbaby\n",
    "        \n",
    "    # d. ChangeOfPopularity(fromYear=2014, toYear=2015, top=10): \n",
    "    # This function returns a table w/ 3 columns showing changes in popularity of names over the given time period \n",
    "    # column (i) shows baby names that increased in popularity in the given time period\n",
    "    # column (ii) shows baby names that increased in popularity in the given time period\n",
    "    # column (iii) shows baby names that stayed the same in popularity in the given time period\n",
    "    def ChangeOfPopularity(self, fromYear=1910, toYear=2017, top=10):\n",
    "        fromYear = fromYear if fromYear <=2017 and fromYear >=1910 else 1910 \n",
    "        toYear = toYear if toYear <=2017 and toYear >=1910 else 2017 \n",
    "        df = self.data[(self.data.Year == str(fromYear))|(self.data.Year == str(toYear))]\n",
    "        \n",
    "        def count_in_year(df, name, year):\n",
    "            df = df[(df.Year == str(year))&(df.Name==name)]\n",
    "            count = 0\n",
    "            for index, row in df.iterrows():\n",
    "                count += int(row['Births'])\n",
    "            return count\n",
    "        \n",
    "        increase_list = []\n",
    "        decrease_list = []\n",
    "        nochange_list = []\n",
    "\n",
    "        for name in df.Name:\n",
    "            if count_in_year(df, name, toYear) - count_in_year(df, name, fromYear) > 20:\n",
    "                increase_list.append(name)\n",
    "            elif count_in_year(df, name, fromYear) - count_in_year(df, name, toYear) > 20:\n",
    "                decrease_list.append(name)\n",
    "            else:\n",
    "                nochange_list.append(name)  \n",
    "        \n",
    "        l_inc,l_dec,l_noch = len(increase_list),len(decrease_list),len(nochange_list)\n",
    "        max_len = max([l_inc,l_dec,l_noch])\n",
    "        increase_list.extend(['']*(max_len-l_inc))\n",
    "        decrease_list.extend(['']*(max_len-l_dec))\n",
    "        nochange_list.extend(['']*(max_len-l_noch))\n",
    "        lists_for_final = [increase_list, decrease_list, nochange_list]\n",
    "\n",
    "        return pd.DataFrame({\"Increased Over Time Period\" : increase_list,\n",
    "              \"Decreased Over Time Period\" : decrease_list,\n",
    "              \"No Change Over Time Period\" : nochange_list})      \n",
    "    \n",
    "    #e. Top5NamesPerYear(year=2015,sex=’’): Returns a table that show the five most\n",
    "    # frequent given names, by State, for male, female, or both in a given year.\n",
    "    # The number to the right of each name is the number of occurrences in the data.\n",
    "    def Top5NamesPerYear(self, year=1910, sex='M'):\n",
    "        df = self.data[self.data.Year == str(year)]\n",
    "        \n",
    "        final_dict = {}\n",
    "        for State in df.State.unique():\n",
    "            if sex == 'M':\n",
    "                df_new = df[(df.State==State)&(df.Sex=='M')].sort_values('Births',ascending=False).head(5)\n",
    "                final_dict[State] = [(row['Name'],row['Births']) for index,row in df_new.iterrows()]\n",
    "            elif sex == 'F':\n",
    "                df_new = df[(df.State==State)&(df.Sex=='F')].sort_values('Births',ascending=False).head(5)\n",
    "                final_dict[State] = [(row['Name'],row['Births']) for index,row in df_new.iterrows()]\n",
    "            else:\n",
    "                df_new = df[df.State==State].sort_values('Births',ascending=False).head(5)\n",
    "                final_dict[State] = [(row['Name'],row['Births']) for index,row in df_new.iterrows()]\n",
    "            final_df = pd.DataFrame([[key, final_dict[key][0][0], final_dict[key][0][1],\\\n",
    "                                          final_dict[key][1][0], final_dict[key][1][1],\\\n",
    "                                          final_dict[key][2][0], final_dict[key][2][1],\\\n",
    "                                          final_dict[key][3][0], final_dict[key][3][1],\\\n",
    "                                          final_dict[key][4][0], final_dict[key][4][1],\\\n",
    "                                          ] for key in final_dict], columns=['State','Rank 1','Count','Rank 2','Count','Rank 3','Count',\\\n",
    "                                                                             'Rank 4','Count','Rank 5','Count'])\n",
    "        return final_df \n",
    "    \n",
    "    \n",
    "    #f. This function NamePopularityPlot will create a plot file that shows the name popularity changes over the time range.\n",
    "    # (popularity is based on the proportional use of the name within a state and year)\n",
    "    def NamePopularityPlot(self, name, yearRange, state='', sex=''):\n",
    "        yearRange = [*range(yearRange[0],yearRange[1]+1,1)]\n",
    "        yearRange = [str(year) for year in yearRange]\n",
    "        df = self.data[self.data.Year.isin(yearRange)]\n",
    "        df = df[df.Name == name]\n",
    "        if sex == 'M':\n",
    "            df = df[df.Sex == 'M']\n",
    "        elif sex =='F':\n",
    "            df = df[df.Sex == 'F']\n",
    "        if state != '':\n",
    "            df = df[df.State == state]\n",
    "        df = df[df.Births >= 5]\n",
    "        total_dict = {}\n",
    "        for year in yearRange:\n",
    "            total_dict[year] = df.Births[df.Year==year].sum()\n",
    "        prop_dict = {}\n",
    "        for index, row in df.iterrows():\n",
    "            prop_dict[row['Year']] = round(row['Births']/total_dict[row['Year']]*1000, 3)\n",
    "        \n",
    "        plt.scatter([*prop_dict.keys()],[*prop_dict.values()])\n",
    "        plt.plot([*prop_dict.keys()],[*prop_dict.values()])\n",
    "        plt.title('Popularity of {} from {} - {}'.format(name,yearRange[0],yearRange[-1]))\n",
    "        plt.ylabel('Popularity of Name (10ths of a %)')\n",
    "        plt.xlabel('Year')\n",
    "        plt.xticks(rotation=65)\n",
    "        plt.show()\n",
    "    \n",
    "    #g. This function Lists the top n names that flipped over the years.\n",
    "    #(i.e. from boy name to girl or the reverse). \n",
    "    # It also Provides a plot of the names showing the year.\n",
    "    def NameFlip(self, n=10):\n",
    "        df = self.data.drop(columns='State')\n",
    "        df = df.groupby(['Name', 'Year', 'Sex'], as_index=False).sum()\n",
    "        df = df[df.Births >= 50]\n",
    "        yearRange = [*range(1910,2011,5)]\n",
    "        yearRange = [str(year) for year in yearRange]\n",
    "        df = df[df.Year.isin(yearRange)]\n",
    "        \n",
    "        def m_or_f(df, name, year):\n",
    "            df = df[df.Name == name]\n",
    "            df = df[df.Year == str(year)]\n",
    "            m_count = df[df.Sex == 'M'].shape[0]\n",
    "            f_count = df[df.Sex == 'F'].shape[0]\n",
    "            if m_count >= f_count:\n",
    "                return 'M'\n",
    "            else:\n",
    "                return 'F'\n",
    "            \n",
    "        def did_you_flip(name, list_of_year_sex):\n",
    "            F_count = 0\n",
    "            M_count = 0\n",
    "            for tup in list_of_year_sex:\n",
    "                if tup[1] == 'F':\n",
    "                    F_count+=1 \n",
    "                else:\n",
    "                    M_count+=1 \n",
    "            if F_count > 0 and M_count >0:\n",
    "                return True\n",
    "        \n",
    "        names_gender_dict = {}\n",
    "        for name in df.Name.unique():\n",
    "            name_df = df[df.Name==name]\n",
    "            names_gender_dict[name] = []\n",
    "            for index, row in name_df.iterrows():\n",
    "                names_gender_dict[name].append((row['Year'], m_or_f(df, name, row['Year'])))\n",
    "        names_that_flipped = []\n",
    "        for key in names_gender_dict:\n",
    "            if did_you_flip(key, names_gender_dict[key]) == True: \n",
    "                names_that_flipped.append(key)\n",
    "        names_that_flipped = names_that_flipped[:n]\n",
    "        print(names_that_flipped)\n",
    "        lw = 14\n",
    "        for name in names_that_flipped:\n",
    "            x = []\n",
    "            y = []\n",
    "            for tup in names_gender_dict[name]:\n",
    "                x.append(tup[0])\n",
    "                y.append(tup[1])\n",
    "            plt.plot(x,y,linewidth=lw)\n",
    "            plt.scatter(x,y)\n",
    "            lw-=3\n",
    "        plt.title('Names that Flipped from Male to Female')\n",
    "        plt.ylabel('Gender')\n",
    "        plt.xlabel('Year')\n",
    "        plt.xticks(rotation=65)\n",
    "        plt.show()  \n",
    "        \n",
    "    def Story(self):\n",
    "        df = self.data\n",
    "        df = df.groupby(['Name', 'Year'], as_index=False).sum()\n",
    "        total_births = df.Births.sum()\n",
    "        df = df[df.Name == 'Luke']\n",
    "        df.Year = pd.to_numeric(df.Year)\n",
    "        df['Popularity'] = df['Births']/total_births*100\n",
    "        ax = df.plot(title='Popularity (% of overall births) of \"Luke\" by Year',x='Year', y='Popularity')\n",
    "        ax.axvline(1977, color='r')\n",
    "        ax.axvline(1980, color='r')\n",
    "        ax.axvline(1983, color='r')\n",
    "        \n",
    "        df2 = self.data\n",
    "        df2 = df2.groupby(['Name', 'Year'], as_index=False).sum()\n",
    "        df2 = df2[df2.Name == 'Anakin']\n",
    "        df2.Year = pd.to_numeric(df2.Year)\n",
    "        df2['Popularity'] = df2['Births']/total_births*100\n",
    "        ax2 = df2.plot(title='Popularity (% of overall births) of \"Anakin\" by Year',x='Year', y='Popularity')\n",
    "        ax2.axvline(1999, color='r')\n",
    "        ax2.axvline(2002, color='r')\n",
    "        ax2.axvline(2005, color='r')\n",
    "        \n",
    "        df3 = self.data\n",
    "        df3 = df3.groupby(['Name', 'Year'], as_index=False).sum()\n",
    "        df3 = df3[df3.Name == 'Rey']\n",
    "        df3.Year = pd.to_numeric(df3.Year)\n",
    "        df3['Popularity'] = df3['Births']/total_births*100\n",
    "        ax3 = df3.plot(title='Popularity (% of overall births) of \"Rey\" by Year',x='Year', y='Popularity')\n",
    "        ax3.axvline(2015, color='r')\n",
    "        ax3.axvline(2017, color='r')"
   ]
  },
  {
   "cell_type": "code",
   "execution_count": 126,
   "metadata": {},
   "outputs": [],
   "source": [
    "BabyNamesObject_Sample = BabyNames('/nfs/home/naf445/z/422 Java & Python/Projects/Project1 Personal/NamesByStateSample')\n",
    "BabyNamesObject = BabyNames('/nfs/home/naf445/z/422 Java & Python/Projects/Project1 Personal/NamesByState')"
   ]
  },
  {
   "cell_type": "code",
   "execution_count": 127,
   "metadata": {},
   "outputs": [
    {
     "data": {
      "image/png": "[encoded data removed]",
      "text/plain": [
       "<Figure size 432x288 with 1 Axes>"
      ]
     },
     "metadata": {
      "needs_background": "light"
     },
     "output_type": "display_data"
    },
    {
     "data": {
      "image/png": "[encoded data removed]",
      "text/plain": [
       "<Figure size 432x288 with 1 Axes>"
      ]
     },
     "metadata": {
      "needs_background": "light"
     },
     "output_type": "display_data"
    },
    {
     "data": {
      "image/png": "[encoded data removed]",
      "text/plain": [
       "<Figure size 432x288 with 1 Axes>"
      ]
     },
     "metadata": {
      "needs_background": "light"
     },
     "output_type": "display_data"
    }
   ],
   "source": [
    "BabyNamesObject.Story()"
   ]
  },
  {
   "cell_type": "code",
   "execution_count": 97,
   "metadata": {},
   "outputs": [
    {
     "name": "stdout",
     "output_type": "stream",
     "text": [
      "  State Sex  Year        Name  Births\n",
      "0    AL   M  1956       Kevin      14\n",
      "1    AL   M  1956       Kevin     100\n",
      "2    TN   M  1956      Josiah      54\n",
      "3    CA   M  1966      Tyrany     545\n",
      "4    AL   F  2010  NateFranks       1\n",
      "  State Sex  Year        Name  Births     Hi\n",
      "0    AL   M  1956       Kevin      14    2.8\n",
      "1    AL   M  1956       Kevin     100   20.0\n",
      "2    TN   M  1956      Josiah      54   10.8\n",
      "3    CA   M  1966      Tyrany     545  109.0\n",
      "4    AL   F  2010  NateFranks       1    0.2\n"
     ]
    }
   ],
   "source": [
    "df_sample = pd.DataFrame([['AL','M','1956','Kevin',14],['AL','M','1956','Kevin',100],['TN','M','1956','Josiah',54],['CA','M','1966','Tyrany',545],['AL','F','2010','NateFranks',1]], columns=['State', 'Sex', 'Year', 'Name', 'Births'])"
   ]
  },
  {
   "cell_type": "markdown",
   "metadata": {},
   "source": [
    "# Exercise 2"
   ]
  },
  {
   "cell_type": "code",
   "execution_count": null,
   "metadata": {},
   "outputs": [],
   "source": [
    "import pymysql\n",
    "import pandas as pd\n",
    "\n",
    "\n",
    "cnx = pymysql.connect(\"localhost\",\"MSiA422\",\"MSIA422\",\"world\" )\n",
    "\n",
    "\n",
    "city = pd.read_sql_query('select * from city', con=cnx)\n",
    "country = pd.read_sql_query('select * from country', con=cnx)\n",
    "countrylanguage = pd.read_sql_query('select * from countrylanguage', con=cnx)\n"
   ]
  },
  {
   "cell_type": "markdown",
   "metadata": {},
   "source": [
    "## Query 1\n",
    "\n",
    "select * \n",
    "<br>from country\n",
    "<br>where population > 50000000\n",
    "<br>order by population DESC limit 10;\n",
    "\n",
    "**Desciption:**\n",
    "<br>This statement returns top 10 countries with greatest population whose population is greater than 50000000."
   ]
  },
  {
   "cell_type": "code",
   "execution_count": null,
   "metadata": {},
   "outputs": [],
   "source": [
    "country[country.Population>50000000].sort_values(by='Population', ascending=False).head(10)\n"
   ]
  },
  {
   "cell_type": "markdown",
   "metadata": {},
   "source": [
    "Compare results with SQL statement."
   ]
  },
  {
   "cell_type": "code",
   "execution_count": null,
   "metadata": {},
   "outputs": [],
   "source": [
    "sql = 'select * \\\n",
    "       from country \\\n",
    "       where population > 50000000 \\\n",
    "       order by population DESC limit 10'\n",
    "\n",
    "pd.read_sql_query(sql, con=cnx)"
   ]
  },
  {
   "cell_type": "markdown",
   "metadata": {},
   "source": [
    "## Query 2 \n",
    "\n",
    "select Continent, count(*) As Number_Countries, sum(population) As Population \n",
    "<br>from country\n",
    "<br>where population > 0\n",
    "<br>group by Continent\n",
    "<br>order by 1 ASC;\n",
    "\n",
    "**Desciption:**\n",
    "<br>This statement only keeps countries with positive population, and then returns the name of each continent, the number of countries and the total population in each continent. In the end the result is sorted by continent name alphabetically. "
   ]
  },
  {
   "cell_type": "code",
   "execution_count": null,
   "metadata": {},
   "outputs": [],
   "source": [
    "country[country.Population>0].groupby(by = 'Continent').agg({'Name':'count','Population':'sum'}).rename(columns={'Name':'Number_Countries'})\n"
   ]
  },
  {
   "cell_type": "markdown",
   "metadata": {},
   "source": [
    "Compare results with SQL statement."
   ]
  },
  {
   "cell_type": "code",
   "execution_count": null,
   "metadata": {},
   "outputs": [],
   "source": [
    "sql = 'select Continent, count(*) As Number_Countries, sum(population) As Population from country \\\n",
    "       where population > 0 \\\n",
    "       group by Continent \\\n",
    "       order by 1 ASC' \n",
    "\n",
    "pd.read_sql_query(sql, con=cnx)"
   ]
  },
  {
   "cell_type": "markdown",
   "metadata": {},
   "source": [
    "## Query 3\n",
    "select city.Name As City, city.population\n",
    "<br>from city\n",
    "<br>inner join country ON city.CountryCode = country.code\n",
    "<br>where country.code = 'USA'\n",
    "<br>order by city.population DESC limit 10\n",
    "\n",
    "**Desciption:**\n",
    "<br>This statement selects top 10 cities with greatest population in USA."
   ]
  },
  {
   "cell_type": "code",
   "execution_count": null,
   "metadata": {},
   "outputs": [],
   "source": [
    "df_city_country = pd.merge(city, country, how='inner', left_on='CountryCode', right_on='Code')\n",
    "df_city_country[['Name_x','Population_x']][df_city_country.Code=='USA'].sort_values(by='Population_x', ascending=False).rename(columns={'Name_x':'City','Population_x':'Population'}).head(10)\n"
   ]
  },
  {
   "cell_type": "markdown",
   "metadata": {},
   "source": [
    "Compare results with SQL statement."
   ]
  },
  {
   "cell_type": "code",
   "execution_count": null,
   "metadata": {},
   "outputs": [],
   "source": [
    "sql = 'select city.Name As City, city.population \\\n",
    "       from city \\\n",
    "       inner join country ON city.CountryCode = country.code \\\n",
    "       where country.code = \"USA\" \\\n",
    "       order by city.population DESC limit 10' \n",
    "\n",
    "pd.read_sql_query(sql, con=cnx)"
   ]
  },
  {
   "cell_type": "markdown",
   "metadata": {},
   "source": [
    "## Query 4\n",
    "select country.Name, Language, (Percentage * population) / 100\n",
    "<br>from countrylanguage\n",
    "<br>inner join country on countrylanguage.CountryCode = country.code\n",
    "<br>where IsOfficial = True\n",
    "<br>order by 3 DESC limit 10;\n",
    "\n",
    "**Description:**\n",
    "<br>This statement firstly returns official language for each country and corresponding amount of population who speaks that language. Then it selects top 10 countries with largest amount of population speaking their official language."
   ]
  },
  {
   "cell_type": "code",
   "execution_count": null,
   "metadata": {},
   "outputs": [],
   "source": [
    "df_country_lang = pd.merge(countrylanguage, country, how='inner', left_on='CountryCode', right_on='Code')\n",
    "df_country_lang['Amount'] = df_country_lang.Percentage * df_country_lang.Population / 100\n",
    "df_country_lang[['Name','Language','Amount']][df_country_lang.IsOfficial=='T'].sort_values(by='Amount', ascending=False).head(10)\n"
   ]
  },
  {
   "cell_type": "markdown",
   "metadata": {},
   "source": [
    "Compare results with SQL statement."
   ]
  },
  {
   "cell_type": "code",
   "execution_count": null,
   "metadata": {},
   "outputs": [],
   "source": [
    "sql = 'select country.Name, Language, (Percentage * population) / 100 \\\n",
    "       from countrylanguage \\\n",
    "       inner join country on countrylanguage.CountryCode = country.code \\\n",
    "       where IsOfficial = True \\\n",
    "       order by 3 DESC limit 10' \n",
    "\n",
    "pd.read_sql_query(sql, con=cnx)"
   ]
  },
  {
   "cell_type": "markdown",
   "metadata": {},
   "source": [
    "## Query 5\n",
    "\n",
    "select Language, sum((Percentage * population) / 100)\n",
    "<br>from countrylanguage\n",
    "<br>inner join country ON countrylanguage.CountryCode = country.code\n",
    "<br>group by Language\n",
    "<br>order by 2 desc limit 5;\n",
    "\n",
    "**Description:**\n",
    "<br>This statement checks the total amount of population for each language and then selects top 5 languages with largest amount of population speaking their official language."
   ]
  },
  {
   "cell_type": "code",
   "execution_count": null,
   "metadata": {},
   "outputs": [],
   "source": [
    "df_country_lang.groupby(by='Language').agg({'Amount':'sum'}).sort_values(by='Amount', ascending=False).head(5)\n"
   ]
  },
  {
   "cell_type": "markdown",
   "metadata": {},
   "source": [
    "Compare results with SQL statement."
   ]
  },
  {
   "cell_type": "code",
   "execution_count": null,
   "metadata": {},
   "outputs": [],
   "source": [
    "sql = 'select Language, sum((Percentage * population) / 100) \\\n",
    "       from countrylanguage \\\n",
    "       inner join country ON countrylanguage.CountryCode = country.code \\\n",
    "       group by Language \\\n",
    "       order by 2 desc limit 5' \n",
    "\n",
    "pd.read_sql_query(sql, con=cnx)"
   ]
  },
  {
   "cell_type": "code",
   "execution_count": null,
   "metadata": {},
   "outputs": [],
   "source": []
  }
 ],
 "metadata": {
  "kernelspec": {
   "display_name": "Python 3",
   "language": "python",
   "name": "python3"
  },
  "language_info": {
   "codemirror_mode": {
    "name": "ipython",
    "version": 3
   },
   "file_extension": ".py",
   "mimetype": "text/x-python",
   "name": "python",
   "nbconvert_exporter": "python",
   "pygments_lexer": "ipython3",
   "version": "3.6.4"
  }
 },
 "nbformat": 4,
 "nbformat_minor": 2
}
